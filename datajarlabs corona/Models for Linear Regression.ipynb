{
 "cells": [
  {
   "cell_type": "code",
   "execution_count": 1,
   "metadata": {
    "Collapsed": "false"
   },
   "outputs": [],
   "source": [
    "import matplotlib.pyplot as plt\n",
    "import numpy as np\n",
    "import pandas as pd\n",
    "from sklearn.linear_model import LinearRegression\n",
    "from sklearn.linear_model import Ridge\n",
    "from sklearn.linear_model import Lasso\n",
    "from sklearn.linear_model import ElasticNet\n",
    "from sklearn.model_selection import train_test_split\n",
    "import statsmodels.api as sm\n",
    "from statsmodels.tools.eval_measures import mse, rmse\n",
    "from sklearn.metrics import mean_absolute_error,mean_squared_error\n",
    "\n",
    "%matplotlib inline\n",
    "pd.options.display.float_format = '{:.3f}'.format\n",
    "\n",
    "import warnings\n",
    "warnings.filterwarnings(action=\"ignore\")"
   ]
  },
  {
   "cell_type": "markdown",
   "metadata": {
    "Collapsed": "false"
   },
   "source": [
    "# Assignment 6-7"
   ]
  },
  {
   "cell_type": "markdown",
   "metadata": {
    "Collapsed": "false"
   },
   "source": [
    "## Reading Data"
   ]
  },
  {
   "cell_type": "code",
   "execution_count": 13,
   "metadata": {
    "Collapsed": "false"
   },
   "outputs": [
    {
     "name": "stdout",
     "output_type": "stream",
     "text": [
      "Data on train-set  : 3301\n",
      "Data on test-set   : 826\n"
     ]
    }
   ],
   "source": [
    "df = pd.read_excel(\"feed_the_model.xlsx\")\n",
    "\n",
    "X = df[df.columns[df.columns != \"total_cases\"]]\n",
    "Y = df[\"total_cases\"]\n",
    "\n",
    "X_train, X_test, y_train, y_test = train_test_split(X, Y, test_size = 0.2, random_state = 465)\n",
    "\n",
    "print(\"Data on train-set  : {}\".format(X_train.shape[0]))\n",
    "print(\"Data on test-set   : {}\".format(X_test.shape[0]))"
   ]
  },
  {
   "cell_type": "markdown",
   "metadata": {
    "Collapsed": "false"
   },
   "source": [
    "## Training Models"
   ]
  },
  {
   "cell_type": "markdown",
   "metadata": {
    "Collapsed": "true"
   },
   "source": [
    "### OLS"
   ]
  },
  {
   "cell_type": "code",
   "execution_count": 24,
   "metadata": {
    "Collapsed": "false"
   },
   "outputs": [],
   "source": [
    "ols_model = LinearRegression()\n",
    "ols_model.fit(X_train,y_train)\n",
    "\n",
    "ols_model_train_predict = ols_model.predict(X_train)\n",
    "ols_model_test_predict = ols_model.predict(X_test)"
   ]
  },
  {
   "cell_type": "code",
   "execution_count": 25,
   "metadata": {
    "Collapsed": "false"
   },
   "outputs": [
    {
     "name": "stdout",
     "output_type": "stream",
     "text": [
      "R-squared on train set : 0.900456717826558 \n",
      "\n",
      "--- OLS model's statistics on test set ---\n",
      "\n",
      "R-squared : 0.899975302711149\n",
      "Mean Absolute Error : 0.3968308026652247\n",
      "Mean Squared Error : 0.330781214609967\n",
      "Root of Mean Squared Error : 0.5751358227496937\n"
     ]
    }
   ],
   "source": [
    "print(\"R-squared on train set :\",ols_model.score(X_train,y_train),\"\\n\")\n",
    "\n",
    "print(\"--- OLS model's statistics on test set ---\\n\")\n",
    "print(\"R-squared :\",ols_model.score(X_test,y_test))\n",
    "print(\"Mean Absolute Error :\",mean_absolute_error(y_test,ols_model_test_predict))\n",
    "print(\"Mean Squared Error :\",mse(y_test,ols_model_test_predict))\n",
    "print(\"Root of Mean Squared Error :\",rmse(y_test,ols_model_test_predict))"
   ]
  },
  {
   "cell_type": "markdown",
   "metadata": {
    "Collapsed": "true"
   },
   "source": [
    "### Ridge Regularization"
   ]
  },
  {
   "cell_type": "code",
   "execution_count": 46,
   "metadata": {
    "Collapsed": "false"
   },
   "outputs": [],
   "source": [
    "ridge_model = Ridge(0.3)\n",
    "ridge_model.fit(X_train,y_train)\n",
    "\n",
    "ridge_model_train_predict = ridge_model.predict(X_train)\n",
    "ridge_model_test_predict = ridge_model.predict(X_test)"
   ]
  },
  {
   "cell_type": "code",
   "execution_count": 47,
   "metadata": {
    "Collapsed": "false"
   },
   "outputs": [
    {
     "name": "stdout",
     "output_type": "stream",
     "text": [
      "R-squared on train set : 0.900437065776202 \n",
      "\n",
      "--- Ridge model's statistics on test set ---\n",
      "\n",
      "R-squared : 0.900017266883841\n",
      "Mean Absolute Error : 0.397327837818271\n",
      "Mean Squared Error : 0.33064243928357834\n",
      "Root of Mean Squared Error : 0.5750151643944518\n"
     ]
    }
   ],
   "source": [
    "print(\"R-squared on train set :\",ridge_model.score(X_train,y_train),\"\\n\")\n",
    "\n",
    "print(\"--- Ridge model's statistics on test set ---\\n\")\n",
    "print(\"R-squared :\",ridge_model.score(X_test,y_test))\n",
    "print(\"Mean Absolute Error :\",mean_absolute_error(y_test,ridge_model_test_predict))\n",
    "print(\"Mean Squared Error :\",mean_squared_error(y_test,ridge_model_test_predict))\n",
    "print(\"Root of Mean Squared Error :\",mean_squared_error(y_test,ridge_model_test_predict)**(1/2))"
   ]
  },
  {
   "cell_type": "markdown",
   "metadata": {
    "Collapsed": "true"
   },
   "source": [
    "### Lasso Regularization"
   ]
  },
  {
   "cell_type": "code",
   "execution_count": 82,
   "metadata": {
    "Collapsed": "false"
   },
   "outputs": [],
   "source": [
    "lasso_model = Lasso(0.00001)\n",
    "lasso_model.fit(X_train,y_train)\n",
    "\n",
    "lasso_model_train_predict = lasso_model.predict(X_train)\n",
    "lasso_model_test_predict = lasso_model.predict(X_test)"
   ]
  },
  {
   "cell_type": "code",
   "execution_count": 83,
   "metadata": {
    "Collapsed": "false"
   },
   "outputs": [
    {
     "name": "stdout",
     "output_type": "stream",
     "text": [
      "R-squared on train set : 0.9004559257812224 \n",
      "\n",
      "--- Lasso model's statistics on test set ---\n",
      "\n",
      "R-squared : 0.8999838280717473\n",
      "Mean Absolute Error : 0.39690164608912276\n",
      "Mean Squared Error : 0.330753021281618\n",
      "Root of Mean Squared Error : 0.5751113120793383\n"
     ]
    }
   ],
   "source": [
    "print(\"R-squared on train set :\",lasso_model.score(X_train,y_train),\"\\n\")\n",
    "\n",
    "print(\"--- Lasso model's statistics on test set ---\\n\")\n",
    "print(\"R-squared :\",lasso_model.score(X_test,y_test))\n",
    "print(\"Mean Absolute Error :\",mean_absolute_error(y_test,lasso_model_test_predict))\n",
    "print(\"Mean Squared Error :\",mean_squared_error(y_test,lasso_model_test_predict))\n",
    "print(\"Root of Mean Squared Error :\",mean_squared_error(y_test,lasso_model_test_predict)**(1/2))"
   ]
  },
  {
   "cell_type": "markdown",
   "metadata": {
    "Collapsed": "false"
   },
   "source": [
    "### ElasticNet"
   ]
  },
  {
   "cell_type": "code",
   "execution_count": 158,
   "metadata": {
    "Collapsed": "false"
   },
   "outputs": [],
   "source": [
    "elasticnet_model = ElasticNet(alpha=0.0001, l1_ratio=0.1)\n",
    "elasticnet_model.fit(X_train,y_train)\n",
    "\n",
    "elasticnet_model_train_predict = elasticnet_model.predict(X_train)\n",
    "elasticnet_model_test_predict = elasticnet_model.predict(X_test)"
   ]
  },
  {
   "cell_type": "code",
   "execution_count": 163,
   "metadata": {
    "Collapsed": "false"
   },
   "outputs": [
    {
     "name": "stdout",
     "output_type": "stream",
     "text": [
      "R-squared on train set     : 0.9004305690391123 \n",
      "\n",
      "--- ElasticNet model's statistics on test set ---\n",
      "\n",
      "R-squared                  : 0.9000103571544086\n",
      "Mean Absolute Error        : 2.4969460831355734\n",
      "Mean Squared Error         : 2.1412397139734813\n",
      "Root of Mean Squared Error : 3.7586772339927834\n"
     ]
    }
   ],
   "source": [
    "print(\"R-squared on train set     :\",elasticnet_model.score(X_train,y_train),\"\\n\")\n",
    "\n",
    "print(\"--- ElasticNet model's statistics on test set ---\\n\")\n",
    "print(\"R-squared                  :\",elasticnet_model.score(X_test,y_test))\n",
    "print(\"Mean Absolute Error        :\",10**mean_absolute_error(y_test,elasticnet_model_test_predict))\n",
    "print(\"Mean Squared Error         :\",10**mean_squared_error(y_test,elasticnet_model_test_predict))\n",
    "print(\"Root of Mean Squared Error :\",10**mean_squared_error(y_test,elasticnet_model_test_predict)**(1/2))"
   ]
  },
  {
   "cell_type": "markdown",
   "metadata": {
    "Collapsed": "false"
   },
   "source": [
    "## Conclusion"
   ]
  },
  {
   "cell_type": "code",
   "execution_count": 160,
   "metadata": {
    "Collapsed": "false"
   },
   "outputs": [
    {
     "data": {
      "text/html": [
       "<div>\n",
       "<style scoped>\n",
       "    .dataframe tbody tr th:only-of-type {\n",
       "        vertical-align: middle;\n",
       "    }\n",
       "\n",
       "    .dataframe tbody tr th {\n",
       "        vertical-align: top;\n",
       "    }\n",
       "\n",
       "    .dataframe thead th {\n",
       "        text-align: right;\n",
       "    }\n",
       "</style>\n",
       "<table border=\"1\" class=\"dataframe\">\n",
       "  <thead>\n",
       "    <tr style=\"text-align: right;\">\n",
       "      <th></th>\n",
       "      <th>OLS</th>\n",
       "      <th>Ridge</th>\n",
       "      <th>Lasso</th>\n",
       "      <th>ElasticNet</th>\n",
       "    </tr>\n",
       "  </thead>\n",
       "  <tbody>\n",
       "    <tr>\n",
       "      <th>Train set R-squared</th>\n",
       "      <td>0.900</td>\n",
       "      <td>0.900</td>\n",
       "      <td>0.900</td>\n",
       "      <td>0.900</td>\n",
       "    </tr>\n",
       "    <tr>\n",
       "      <th>Test set R-squared</th>\n",
       "      <td>0.900</td>\n",
       "      <td>0.900</td>\n",
       "      <td>0.900</td>\n",
       "      <td>0.900</td>\n",
       "    </tr>\n",
       "  </tbody>\n",
       "</table>\n",
       "</div>"
      ],
      "text/plain": [
       "                      OLS  Ridge  Lasso  ElasticNet\n",
       "Train set R-squared 0.900  0.900  0.900       0.900\n",
       "Test set R-squared  0.900  0.900  0.900       0.900"
      ]
     },
     "execution_count": 160,
     "metadata": {},
     "output_type": "execute_result"
    }
   ],
   "source": [
    "conc = pd.DataFrame()\n",
    "\n",
    "conc[\"OLS\"] = [ols_model.score(X_train,y_train),ols_model.score(X_test,y_test)]\n",
    "conc[\"Ridge\"] = [ridge_model.score(X_train,y_train),ridge_model.score(X_test,y_test)]\n",
    "conc[\"Lasso\"] = [lasso_model.score(X_train,y_train),lasso_model.score(X_test,y_test)]\n",
    "conc[\"ElasticNet\"] = [elasticnet_model.score(X_train,y_train),elasticnet_model.score(X_test,y_test)]\n",
    "\n",
    "conc.index = [\"Train set R-squared\",\"Test set R-squared\"]\n",
    "\n",
    "conc"
   ]
  },
  {
   "cell_type": "markdown",
   "metadata": {
    "Collapsed": "false"
   },
   "source": [
    "Even though OLS has the best performance on training set, the ridge model has the best performance on test set. This means our OLS model may have over-fitting problem and we overcome that problem by algorithms that have regularization."
   ]
  },
  {
   "cell_type": "code",
   "execution_count": null,
   "metadata": {
    "Collapsed": "false"
   },
   "outputs": [],
   "source": []
  }
 ],
 "metadata": {
  "kernelspec": {
   "display_name": "Python 3",
   "language": "python",
   "name": "python3"
  },
  "language_info": {
   "codemirror_mode": {
    "name": "ipython",
    "version": 3
   },
   "file_extension": ".py",
   "mimetype": "text/x-python",
   "name": "python",
   "nbconvert_exporter": "python",
   "pygments_lexer": "ipython3",
   "version": "3.7.6"
  }
 },
 "nbformat": 4,
 "nbformat_minor": 4
}
