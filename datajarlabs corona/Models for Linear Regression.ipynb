{
 "cells": [
  {
   "cell_type": "code",
   "execution_count": 1,
   "metadata": {
    "Collapsed": "false"
   },
   "outputs": [],
   "source": [
    "import matplotlib.pyplot as plt\n",
    "import numpy as np\n",
    "import pandas as pd\n",
    "from sklearn.linear_model import LinearRegression\n",
    "from sklearn.linear_model import Ridge\n",
    "from sklearn.linear_model import Lasso\n",
    "from sklearn.linear_model import ElasticNet\n",
    "from sklearn.model_selection import train_test_split\n",
    "import statsmodels.api as sm\n",
    "from statsmodels.tools.eval_measures import mse, rmse\n",
    "from sklearn.metrics import mean_absolute_error,mean_squared_error\n",
    "\n",
    "%matplotlib inline\n",
    "pd.options.display.float_format = '{:.3f}'.format\n",
    "\n",
    "import warnings\n",
    "warnings.filterwarnings(action=\"ignore\")"
   ]
  },
  {
   "cell_type": "markdown",
   "metadata": {
    "Collapsed": "false"
   },
   "source": [
    "# Assignment 6-7"
   ]
  },
  {
   "cell_type": "markdown",
   "metadata": {
    "Collapsed": "true"
   },
   "source": [
    "## Reading Data"
   ]
  },
  {
   "cell_type": "code",
   "execution_count": 2,
   "metadata": {
    "Collapsed": "false"
   },
   "outputs": [
    {
     "name": "stdout",
     "output_type": "stream",
     "text": [
      "Data on train-set  : 3301\n",
      "Data on test-set   : 826\n"
     ]
    }
   ],
   "source": [
    "df = pd.read_excel(\"feed_the_model.xlsx\")\n",
    "df.sort_values(by=\"Day\")\n",
    "\n",
    "\n",
    "df_train = df.iloc[0:int(df.shape[0]*80/100),:]\n",
    "\n",
    "df_test = df.iloc[int(df.shape[0]*80/100):df.shape[0]+1,:]\n",
    "\n",
    "X_train = df_train[df_train.columns[df_train.columns != \"total_cases\"]]\n",
    "y_train = df_train[\"total_cases\"]\n",
    "\n",
    "X_test = df_test[df_test.columns[df_test.columns != \"total_cases\"]]\n",
    "y_test = df_test[\"total_cases\"]\n",
    "\n",
    "print(\"Data on train-set  : {}\".format(X_train.shape[0]))\n",
    "print(\"Data on test-set   : {}\".format(X_test.shape[0]))"
   ]
  },
  {
   "cell_type": "markdown",
   "metadata": {
    "Collapsed": "false"
   },
   "source": [
    "## Training Models"
   ]
  },
  {
   "cell_type": "markdown",
   "metadata": {
    "Collapsed": "true"
   },
   "source": [
    "### OLS"
   ]
  },
  {
   "cell_type": "code",
   "execution_count": 3,
   "metadata": {
    "Collapsed": "false"
   },
   "outputs": [],
   "source": [
    "ols_model = LinearRegression(100)\n",
    "ols_model.fit(X_train,y_train)\n",
    "\n",
    "ols_model_train_predict = ols_model.predict(X_train)\n",
    "ols_model_test_predict = ols_model.predict(X_test)"
   ]
  },
  {
   "cell_type": "code",
   "execution_count": 4,
   "metadata": {
    "Collapsed": "false"
   },
   "outputs": [
    {
     "name": "stdout",
     "output_type": "stream",
     "text": [
      "R-squared on train set     : 0.9016083529486858 \n",
      "\n",
      "--- OLS model's statistics on test set ---\n",
      "\n",
      "R-squared                  : -73413136.26870495\n",
      "Mean Absolute Error        : inf\n",
      "Mean Squared Error         : inf\n",
      "Root of Mean Squared Error : inf\n"
     ]
    }
   ],
   "source": [
    "print(\"R-squared on train set     :\",ols_model.score(X_train,y_train),\"\\n\")\n",
    "\n",
    "print(\"--- OLS model's statistics on test set ---\\n\")\n",
    "print(\"R-squared                  :\",ols_model.score(X_test,y_test))\n",
    "print(\"Mean Absolute Error        :\",10**mean_absolute_error(y_test,ols_model_test_predict))     \n",
    "print(\"Mean Squared Error         :\",10**mse(y_test,ols_model_test_predict))\n",
    "print(\"Root of Mean Squared Error :\",10**rmse(y_test,ols_model_test_predict))"
   ]
  },
  {
   "cell_type": "code",
   "execution_count": 5,
   "metadata": {
    "Collapsed": "false"
   },
   "outputs": [
    {
     "data": {
      "image/png": "[encoded data removed]",
      "text/plain": [
       "<Figure size 432x288 with 1 Axes>"
      ]
     },
     "metadata": {
      "needs_background": "light"
     },
     "output_type": "display_data"
    }
   ],
   "source": [
    "plt.scatter(y_test, ols_model_test_predict)\n",
    "plt.plot(y_test, y_test, color=\"red\")\n",
    "plt.xlabel(\"Gerçek Değerler\")\n",
    "plt.ylabel(\"Tahmin edilen Değerler\")\n",
    "plt.title(\"OLS model\")\n",
    "plt.show()"
   ]
  },
  {
   "cell_type": "markdown",
   "metadata": {
    "Collapsed": "true"
   },
   "source": [
    "### Ridge Regularization"
   ]
  },
  {
   "cell_type": "code",
   "execution_count": 6,
   "metadata": {
    "Collapsed": "false"
   },
   "outputs": [],
   "source": [
    "ridge_model = Ridge(0.1)\n",
    "ridge_model.fit(X_train,y_train)\n",
    "\n",
    "ridge_model_train_predict = ridge_model.predict(X_train)\n",
    "ridge_model_test_predict = ridge_model.predict(X_test)"
   ]
  },
  {
   "cell_type": "code",
   "execution_count": 7,
   "metadata": {
    "Collapsed": "false"
   },
   "outputs": [
    {
     "name": "stdout",
     "output_type": "stream",
     "text": [
      "R-squared on train set     : 0.9016071658408008 \n",
      "\n",
      "--- Ridge model's statistics on test set ---\n",
      "\n",
      "R-squared                  : 0.7489007652917747\n",
      "Mean Absolute Error        : 4.978506571041491\n",
      "Mean Squared Error         : 7.237535997021501\n",
      "Root of Mean Squared Error : 8.455536397764273\n"
     ]
    }
   ],
   "source": [
    "print(\"R-squared on train set     :\",ridge_model.score(X_train,y_train),\"\\n\")\n",
    "\n",
    "print(\"--- Ridge model's statistics on test set ---\\n\")\n",
    "print(\"R-squared                  :\",ridge_model.score(X_test,y_test))\n",
    "print(\"Mean Absolute Error        :\",10**mean_absolute_error(y_test,ridge_model_test_predict))\n",
    "print(\"Mean Squared Error         :\",10**mean_squared_error(y_test,ridge_model_test_predict))\n",
    "print(\"Root of Mean Squared Error :\",10**mean_squared_error(y_test,ridge_model_test_predict)**(1/2))"
   ]
  },
  {
   "cell_type": "code",
   "execution_count": 8,
   "metadata": {
    "Collapsed": "false"
   },
   "outputs": [
    {
     "data": {
      "image/png": "[encoded data removed]",
      "text/plain": [
       "<Figure size 432x288 with 1 Axes>"
      ]
     },
     "metadata": {
      "needs_background": "light"
     },
     "output_type": "display_data"
    }
   ],
   "source": [
    "plt.scatter(y_test, ridge_model_test_predict)\n",
    "plt.plot(y_test, y_test, color=\"red\")\n",
    "plt.xlabel(\"Gerçek Değerler\")\n",
    "plt.ylabel(\"Tahmin edilen Değerler\")\n",
    "plt.title(\"Ridge model\")\n",
    "plt.show()"
   ]
  },
  {
   "cell_type": "markdown",
   "metadata": {
    "Collapsed": "true"
   },
   "source": [
    "### Lasso Regularization"
   ]
  },
  {
   "cell_type": "code",
   "execution_count": 9,
   "metadata": {
    "Collapsed": "false"
   },
   "outputs": [],
   "source": [
    "lasso_model = Lasso(0.001)\n",
    "lasso_model.fit(X_train,y_train)\n",
    "\n",
    "lasso_model_train_predict = lasso_model.predict(X_train)\n",
    "lasso_model_test_predict = lasso_model.predict(X_test)"
   ]
  },
  {
   "cell_type": "code",
   "execution_count": 10,
   "metadata": {
    "Collapsed": "false"
   },
   "outputs": [
    {
     "name": "stdout",
     "output_type": "stream",
     "text": [
      "R-squared on train set     : 0.8983640841590813 \n",
      "\n",
      "--- Lasso model's statistics on test set ---\n",
      "\n",
      "R-squared                  : 0.7725858801686598\n",
      "Mean Absolute Error        : 4.763411070673059\n",
      "Mean Squared Error         : 6.004947652328072\n",
      "Root of Mean Squared Error : 7.626612805355528\n"
     ]
    }
   ],
   "source": [
    "print(\"R-squared on train set     :\",lasso_model.score(X_train,y_train),\"\\n\")\n",
    "\n",
    "print(\"--- Lasso model's statistics on test set ---\\n\")\n",
    "print(\"R-squared                  :\",lasso_model.score(X_test,y_test))\n",
    "print(\"Mean Absolute Error        :\",10**mean_absolute_error(y_test,lasso_model_test_predict))\n",
    "print(\"Mean Squared Error         :\",10**mean_squared_error(y_test,lasso_model_test_predict))\n",
    "print(\"Root of Mean Squared Error :\",10**mean_squared_error(y_test,lasso_model_test_predict)**(1/2))"
   ]
  },
  {
   "cell_type": "code",
   "execution_count": 11,
   "metadata": {
    "Collapsed": "false"
   },
   "outputs": [
    {
     "data": {
      "image/png": "[encoded data removed]",
      "text/plain": [
       "<Figure size 432x288 with 1 Axes>"
      ]
     },
     "metadata": {
      "needs_background": "light"
     },
     "output_type": "display_data"
    }
   ],
   "source": [
    "plt.scatter(y_test, lasso_model_test_predict)\n",
    "plt.plot(y_test, y_test, color=\"red\")\n",
    "plt.xlabel(\"Gerçek Değerler\")\n",
    "plt.ylabel(\"Tahmin edilen Değerler\")\n",
    "plt.title(\"Lasso model\")\n",
    "plt.show()"
   ]
  },
  {
   "cell_type": "markdown",
   "metadata": {
    "Collapsed": "true"
   },
   "source": [
    "### ElasticNet"
   ]
  },
  {
   "cell_type": "code",
   "execution_count": 12,
   "metadata": {
    "Collapsed": "false"
   },
   "outputs": [],
   "source": [
    "elasticnet_model = ElasticNet(alpha=0.0001, l1_ratio=0.9)\n",
    "elasticnet_model.fit(X_train,y_train)\n",
    "\n",
    "elasticnet_model_train_predict = elasticnet_model.predict(X_train)\n",
    "elasticnet_model_test_predict = elasticnet_model.predict(X_test)"
   ]
  },
  {
   "cell_type": "code",
   "execution_count": 13,
   "metadata": {
    "Collapsed": "false"
   },
   "outputs": [
    {
     "name": "stdout",
     "output_type": "stream",
     "text": [
      "R-squared on train set     : 0.9015694019104675 \n",
      "\n",
      "--- ElasticNet model's statistics on test set ---\n",
      "\n",
      "R-squared                  : 0.7677742273664758\n",
      "Mean Absolute Error        : 4.834101081769484\n",
      "Mean Squared Error         : 6.237075613175797\n",
      "Root of Mean Squared Error : 7.791428244739552\n"
     ]
    }
   ],
   "source": [
    "print(\"R-squared on train set     :\",elasticnet_model.score(X_train,y_train),\"\\n\")\n",
    "\n",
    "print(\"--- ElasticNet model's statistics on test set ---\\n\")\n",
    "print(\"R-squared                  :\",elasticnet_model.score(X_test,y_test))\n",
    "print(\"Mean Absolute Error        :\",10**mean_absolute_error(y_test,elasticnet_model_test_predict))\n",
    "print(\"Mean Squared Error         :\",10**mean_squared_error(y_test,elasticnet_model_test_predict))\n",
    "print(\"Root of Mean Squared Error :\",10**mean_squared_error(y_test,elasticnet_model_test_predict)**(1/2))"
   ]
  },
  {
   "cell_type": "code",
   "execution_count": 14,
   "metadata": {
    "Collapsed": "false"
   },
   "outputs": [
    {
     "data": {
      "image/png": "[encoded data removed]",
      "text/plain": [
       "<Figure size 432x288 with 1 Axes>"
      ]
     },
     "metadata": {
      "needs_background": "light"
     },
     "output_type": "display_data"
    }
   ],
   "source": [
    "plt.scatter(y_test, elasticnet_model_test_predict)\n",
    "plt.plot(y_test, y_test, color=\"red\")\n",
    "plt.xlabel(\"Gerçek Değerler\")\n",
    "plt.ylabel(\"Tahmin edilen Değerler\")\n",
    "plt.title(\"ElasticNet model\")\n",
    "plt.show()"
   ]
  },
  {
   "cell_type": "markdown",
   "metadata": {
    "Collapsed": "false"
   },
   "source": [
    "## Conclusion"
   ]
  },
  {
   "cell_type": "code",
   "execution_count": 15,
   "metadata": {
    "Collapsed": "false"
   },
   "outputs": [
    {
     "data": {
      "text/html": [
       "<div>\n",
       "<style scoped>\n",
       "    .dataframe tbody tr th:only-of-type {\n",
       "        vertical-align: middle;\n",
       "    }\n",
       "\n",
       "    .dataframe tbody tr th {\n",
       "        vertical-align: top;\n",
       "    }\n",
       "\n",
       "    .dataframe thead th {\n",
       "        text-align: right;\n",
       "    }\n",
       "</style>\n",
       "<table border=\"1\" class=\"dataframe\">\n",
       "  <thead>\n",
       "    <tr style=\"text-align: right;\">\n",
       "      <th></th>\n",
       "      <th>OLS</th>\n",
       "      <th>Ridge</th>\n",
       "      <th>Lasso</th>\n",
       "      <th>ElasticNet</th>\n",
       "    </tr>\n",
       "  </thead>\n",
       "  <tbody>\n",
       "    <tr>\n",
       "      <th>Train set R-squared</th>\n",
       "      <td>0.902</td>\n",
       "      <td>0.902</td>\n",
       "      <td>0.898</td>\n",
       "      <td>0.902</td>\n",
       "    </tr>\n",
       "    <tr>\n",
       "      <th>Test set R-squared</th>\n",
       "      <td>-73413136.269</td>\n",
       "      <td>0.749</td>\n",
       "      <td>0.773</td>\n",
       "      <td>0.768</td>\n",
       "    </tr>\n",
       "  </tbody>\n",
       "</table>\n",
       "</div>"
      ],
      "text/plain": [
       "                              OLS  Ridge  Lasso  ElasticNet\n",
       "Train set R-squared         0.902  0.902  0.898       0.902\n",
       "Test set R-squared  -73413136.269  0.749  0.773       0.768"
      ]
     },
     "execution_count": 15,
     "metadata": {},
     "output_type": "execute_result"
    }
   ],
   "source": [
    "conc = pd.DataFrame()\n",
    "\n",
    "conc[\"OLS\"] = [ols_model.score(X_train,y_train),ols_model.score(X_test,y_test)]\n",
    "conc[\"Ridge\"] = [ridge_model.score(X_train,y_train),ridge_model.score(X_test,y_test)]\n",
    "conc[\"Lasso\"] = [lasso_model.score(X_train,y_train),lasso_model.score(X_test,y_test)]\n",
    "conc[\"ElasticNet\"] = [elasticnet_model.score(X_train,y_train),elasticnet_model.score(X_test,y_test)]\n",
    "\n",
    "conc.index = [\"Train set R-squared\",\"Test set R-squared\"]\n",
    "\n",
    "conc"
   ]
  },
  {
   "cell_type": "markdown",
   "metadata": {
    "Collapsed": "false"
   },
   "source": [
    "Even though OLS has the best performance on training set, the ridge model has the best performance on test set. This means our OLS model may have over-fitting problem and we overcome that problem by algorithms that have regularization."
   ]
  },
  {
   "cell_type": "markdown",
   "metadata": {
    "Collapsed": "false"
   },
   "source": [
    "## Testing"
   ]
  },
  {
   "cell_type": "code",
   "execution_count": 20,
   "metadata": {
    "Collapsed": "false"
   },
   "outputs": [
    {
     "data": {
      "text/plain": [
       "(149,)"
      ]
     },
     "execution_count": 20,
     "metadata": {},
     "output_type": "execute_result"
    }
   ],
   "source": [
    "lasso_model.coef_.shape"
   ]
  },
  {
   "cell_type": "code",
   "execution_count": 37,
   "metadata": {
    "Collapsed": "false"
   },
   "outputs": [],
   "source": [
    "Turkey = X_test[X_test[\"Turkey\"] == 1]\n",
    "Turkey = Turkey.iloc[0]\n",
    "\n",
    "Turkey[\"Day\"] = 39"
   ]
  },
  {
   "cell_type": "code",
   "execution_count": 40,
   "metadata": {
    "Collapsed": "false"
   },
   "outputs": [
    {
     "data": {
      "text/plain": [
       "12.489445293851361"
      ]
     },
     "execution_count": 40,
     "metadata": {},
     "output_type": "execute_result"
    }
   ],
   "source": [
    "sum(Turkey * lasso_model.coef_)"
   ]
  },
  {
   "cell_type": "code",
   "execution_count": null,
   "metadata": {
    "Collapsed": "false"
   },
   "outputs": [],
   "source": []
  }
 ],
 "metadata": {
  "kernelspec": {
   "display_name": "Python 3",
   "language": "python",
   "name": "python3"
  },
  "language_info": {
   "codemirror_mode": {
    "name": "ipython",
    "version": 3
   },
   "file_extension": ".py",
   "mimetype": "text/x-python",
   "name": "python",
   "nbconvert_exporter": "python",
   "pygments_lexer": "ipython3",
   "version": "3.7.6"
  }
 },
 "nbformat": 4,
 "nbformat_minor": 4
}
