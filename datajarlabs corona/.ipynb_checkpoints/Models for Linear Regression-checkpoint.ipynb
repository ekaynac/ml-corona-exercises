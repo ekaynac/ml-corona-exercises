{
 "cells": [
  {
   "cell_type": "code",
   "execution_count": 126,
   "metadata": {
    "Collapsed": "false"
   },
   "outputs": [],
   "source": [
    "import matplotlib.pyplot as plt\n",
    "import numpy as np\n",
    "import pandas as pd\n",
    "from sklearn.linear_model import LinearRegression\n",
    "from sklearn.linear_model import Ridge\n",
    "from sklearn.linear_model import Lasso\n",
    "from sklearn.linear_model import ElasticNet\n",
    "import statsmodels.api as sm\n",
    "from statsmodels.tools.eval_measures import mse, rmse\n",
    "from sklearn.metrics import mean_absolute_error,mean_squared_error\n",
    "\n",
    "%matplotlib inline\n",
    "pd.options.display.float_format = '{:.3f}'.format\n",
    "\n",
    "import warnings\n",
    "warnings.filterwarnings(action=\"ignore\")"
   ]
  },
  {
   "cell_type": "markdown",
   "metadata": {
    "Collapsed": "false"
   },
   "source": [
    "# Assignment 6-7"
   ]
  },
  {
   "cell_type": "markdown",
   "metadata": {
    "Collapsed": "true",
    "toc-hr-collapsed": true,
    "toc-nb-collapsed": true
   },
   "source": [
    "## Reading Data"
   ]
  },
  {
   "cell_type": "code",
   "execution_count": 2,
   "metadata": {
    "Collapsed": "false"
   },
   "outputs": [],
   "source": [
    "X_train = pd.read_csv(\"house_polynomial(2)_train_features.csv\")\n",
    "X_test = pd.read_csv(\"house_polynomial(2)_test_features.csv\")\n",
    "\n",
    "y_train = pd.read_csv(\"house_train_y.csv\")\n",
    "y_test = pd.read_csv(\"house_test_y.csv\")"
   ]
  },
  {
   "cell_type": "markdown",
   "metadata": {
    "Collapsed": "false"
   },
   "source": [
    "## Training Models"
   ]
  },
  {
   "cell_type": "markdown",
   "metadata": {
    "Collapsed": "true"
   },
   "source": [
    "### OLS"
   ]
  },
  {
   "cell_type": "code",
   "execution_count": 11,
   "metadata": {
    "Collapsed": "false"
   },
   "outputs": [],
   "source": [
    "ols_model = LinearRegression()\n",
    "ols_model.fit(X_train,y_train)\n",
    "\n",
    "ols_model_train_predict = ols_model.predict(X_train)\n",
    "ols_model_test_predict = ols_model.predict(X_test)"
   ]
  },
  {
   "cell_type": "code",
   "execution_count": 64,
   "metadata": {
    "Collapsed": "false"
   },
   "outputs": [
    {
     "name": "stdout",
     "output_type": "stream",
     "text": [
      "R-squared on train set : 0.8944050465483597 \n",
      "\n",
      "--- OLS model's statistics on test set ---\n",
      "\n",
      "R-squared : 0.8433659810138976\n",
      "Mean Absolute Error : 21959.114854494597\n",
      "Mean Squared Error : [1.04929714e+09]\n",
      "Root of Mean Squared Error : [32392.8563199]\n"
     ]
    }
   ],
   "source": [
    "print(\"R-squared on train set :\",ols_model.score(X_train,y_train),\"\\n\")\n",
    "\n",
    "print(\"--- OLS model's statistics on test set ---\\n\")\n",
    "print(\"R-squared :\",ols_model.score(X_test,y_test))\n",
    "print(\"Mean Absolute Error :\",mean_absolute_error(y_test,ols_model_test_predict))\n",
    "print(\"Mean Squared Error :\",mse(y_test,ols_model_test_predict))\n",
    "print(\"Root of Mean Squared Error :\",rmse(y_test,ols_model_test_predict))"
   ]
  },
  {
   "cell_type": "markdown",
   "metadata": {
    "Collapsed": "true"
   },
   "source": [
    "### Ridge Regularization"
   ]
  },
  {
   "cell_type": "code",
   "execution_count": 108,
   "metadata": {
    "Collapsed": "false"
   },
   "outputs": [],
   "source": [
    "ridge_model = Ridge(7)\n",
    "ridge_model.fit(X_train,y_train)\n",
    "\n",
    "ridge_model_train_predict = ridge_model.predict(X_train)\n",
    "ridge_model_test_predict = ridge_model.predict(X_test)"
   ]
  },
  {
   "cell_type": "code",
   "execution_count": 109,
   "metadata": {
    "Collapsed": "false"
   },
   "outputs": [
    {
     "name": "stdout",
     "output_type": "stream",
     "text": [
      "R-squared on train set : 0.8776381210845643 \n",
      "\n",
      "--- Ridge model's statistics on test set ---\n",
      "\n",
      "R-squared : 0.849009795372836\n",
      "Mean Absolute Error : 21782.980721401927\n",
      "Mean Squared Error : 1011489017.4796073\n",
      "Root of Mean Squared Error : 31803.915128166333\n"
     ]
    }
   ],
   "source": [
    "print(\"R-squared on train set :\",ridge_model.score(X_train,y_train),\"\\n\")\n",
    "\n",
    "print(\"--- Ridge model's statistics on test set ---\\n\")\n",
    "print(\"R-squared :\",ridge_model.score(X_test,y_test))\n",
    "print(\"Mean Absolute Error :\",mean_absolute_error(y_test,ridge_model_test_predict))\n",
    "print(\"Mean Squared Error :\",mean_squared_error(y_test,ridge_model_test_predict))\n",
    "print(\"Root of Mean Squared Error :\",mean_squared_error(y_test,ridge_model_test_predict)**(1/2))"
   ]
  },
  {
   "cell_type": "markdown",
   "metadata": {
    "Collapsed": "true"
   },
   "source": [
    "### Lasso Regularization"
   ]
  },
  {
   "cell_type": "code",
   "execution_count": 124,
   "metadata": {
    "Collapsed": "false"
   },
   "outputs": [],
   "source": [
    "lasso_model = Lasso(10**2)\n",
    "lasso_model.fit(X_train,y_train)\n",
    "\n",
    "lasso_model_train_predict = lasso_model.predict(X_train)\n",
    "lasso_model_test_predict = lasso_model.predict(X_test)"
   ]
  },
  {
   "cell_type": "code",
   "execution_count": 125,
   "metadata": {
    "Collapsed": "false"
   },
   "outputs": [
    {
     "name": "stdout",
     "output_type": "stream",
     "text": [
      "R-squared on train set : 0.8717486370855018 \n",
      "\n",
      "--- Lasso model's statistics on test set ---\n",
      "\n",
      "R-squared : 0.8473475520968392\n",
      "Mean Absolute Error : 22346.713415064543\n",
      "Mean Squared Error : 1022624447.2394495\n",
      "Root of Mean Squared Error : 31978.49976530246\n"
     ]
    }
   ],
   "source": [
    "print(\"R-squared on train set :\",lasso_model.score(X_train,y_train),\"\\n\")\n",
    "\n",
    "print(\"--- Lasso model's statistics on test set ---\\n\")\n",
    "print(\"R-squared :\",lasso_model.score(X_test,y_test))\n",
    "print(\"Mean Absolute Error :\",mean_absolute_error(y_test,lasso_model_test_predict))\n",
    "print(\"Mean Squared Error :\",mean_squared_error(y_test,lasso_model_test_predict))\n",
    "print(\"Root of Mean Squared Error :\",mean_squared_error(y_test,lasso_model_test_predict)**(1/2))"
   ]
  },
  {
   "cell_type": "markdown",
   "metadata": {
    "Collapsed": "true"
   },
   "source": [
    "### ElasticNet"
   ]
  },
  {
   "cell_type": "code",
   "execution_count": 286,
   "metadata": {
    "Collapsed": "false"
   },
   "outputs": [],
   "source": [
    "elasticnet_model = ElasticNet(alpha=0.07, l1_ratio=0.9)\n",
    "elasticnet_model.fit(X_train,y_train)\n",
    "\n",
    "elasticnet_model_train_predict = elasticnet_model.predict(X_train)\n",
    "elasticnet_model_test_predict = elasticnet_model.predict(X_test)"
   ]
  },
  {
   "cell_type": "code",
   "execution_count": 287,
   "metadata": {
    "Collapsed": "false"
   },
   "outputs": [
    {
     "name": "stdout",
     "output_type": "stream",
     "text": [
      "R-squared on train set : 0.8721670481912681 \n",
      "\n",
      "--- ElasticNet model's statistics on test set ---\n",
      "\n",
      "R-squared : 0.8477811690395081\n",
      "Mean Absolute Error : 22259.381658243226\n",
      "Mean Squared Error : 1019719631.1529647\n",
      "Root of Mean Squared Error : 31933.049199112895\n"
     ]
    }
   ],
   "source": [
    "print(\"R-squared on train set :\",elasticnet_model.score(X_train,y_train),\"\\n\")\n",
    "\n",
    "print(\"--- ElasticNet model's statistics on test set ---\\n\")\n",
    "print(\"R-squared :\",elasticnet_model.score(X_test,y_test))\n",
    "print(\"Mean Absolute Error :\",mean_absolute_error(y_test,elasticnet_model_test_predict))\n",
    "print(\"Mean Squared Error :\",mean_squared_error(y_test,elasticnet_model_test_predict))\n",
    "print(\"Root of Mean Squared Error :\",mean_squared_error(y_test,elasticnet_model_test_predict)**(1/2))"
   ]
  },
  {
   "cell_type": "markdown",
   "metadata": {
    "Collapsed": "false"
   },
   "source": [
    "## Conclusion"
   ]
  },
  {
   "cell_type": "code",
   "execution_count": 288,
   "metadata": {
    "Collapsed": "false"
   },
   "outputs": [
    {
     "data": {
      "text/html": [
       "<div>\n",
       "<style scoped>\n",
       "    .dataframe tbody tr th:only-of-type {\n",
       "        vertical-align: middle;\n",
       "    }\n",
       "\n",
       "    .dataframe tbody tr th {\n",
       "        vertical-align: top;\n",
       "    }\n",
       "\n",
       "    .dataframe thead th {\n",
       "        text-align: right;\n",
       "    }\n",
       "</style>\n",
       "<table border=\"1\" class=\"dataframe\">\n",
       "  <thead>\n",
       "    <tr style=\"text-align: right;\">\n",
       "      <th></th>\n",
       "      <th>OLS</th>\n",
       "      <th>Ridge</th>\n",
       "      <th>Lasso</th>\n",
       "      <th>ElasticNet</th>\n",
       "    </tr>\n",
       "  </thead>\n",
       "  <tbody>\n",
       "    <tr>\n",
       "      <th>Train set R-squared</th>\n",
       "      <td>0.894</td>\n",
       "      <td>0.878</td>\n",
       "      <td>0.872</td>\n",
       "      <td>0.872</td>\n",
       "    </tr>\n",
       "    <tr>\n",
       "      <th>Test set R-squared</th>\n",
       "      <td>0.843</td>\n",
       "      <td>0.849</td>\n",
       "      <td>0.847</td>\n",
       "      <td>0.848</td>\n",
       "    </tr>\n",
       "  </tbody>\n",
       "</table>\n",
       "</div>"
      ],
      "text/plain": [
       "                      OLS  Ridge  Lasso  ElasticNet\n",
       "Train set R-squared 0.894  0.878  0.872       0.872\n",
       "Test set R-squared  0.843  0.849  0.847       0.848"
      ]
     },
     "execution_count": 288,
     "metadata": {},
     "output_type": "execute_result"
    }
   ],
   "source": [
    "conc = pd.DataFrame()\n",
    "\n",
    "conc[\"OLS\"] = [ols_model.score(X_train,y_train),ols_model.score(X_test,y_test)]\n",
    "conc[\"Ridge\"] = [ridge_model.score(X_train,y_train),ridge_model.score(X_test,y_test)]\n",
    "conc[\"Lasso\"] = [lasso_model.score(X_train,y_train),lasso_model.score(X_test,y_test)]\n",
    "conc[\"ElasticNet\"] = [elasticnet_model.score(X_train,y_train),elasticnet_model.score(X_test,y_test)]\n",
    "\n",
    "conc.index = [\"Train set R-squared\",\"Test set R-squared\"]\n",
    "\n",
    "conc"
   ]
  },
  {
   "cell_type": "markdown",
   "metadata": {
    "Collapsed": "false"
   },
   "source": [
    "Even though OLS has the best performance on training set, the ridge model has the best performance on test set. This means our OLS model may have over-fitting problem and we overcome that problem by algorithms that have regularization."
   ]
  }
 ],
 "metadata": {
  "kernelspec": {
   "display_name": "Python 3",
   "language": "python",
   "name": "python3"
  },
  "language_info": {
   "codemirror_mode": {
    "name": "ipython",
    "version": 3
   },
   "file_extension": ".py",
   "mimetype": "text/x-python",
   "name": "python",
   "nbconvert_exporter": "python",
   "pygments_lexer": "ipython3",
   "version": "3.7.6"
  }
 },
 "nbformat": 4,
 "nbformat_minor": 4
}
